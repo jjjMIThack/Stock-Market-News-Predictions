{
 "cells": [
  {
   "cell_type": "code",
   "execution_count": 77,
   "metadata": {},
   "outputs": [],
   "source": [
    "#Import libraries\n",
    "import pandas as pd\n",
    "import numpy as np\n",
    "import matplotlib.pyplot as plt\n",
    "from xgboost import XGBClassifier\n",
    "from sklearn.model_selection import train_test_split\n",
    "from sklearn.metrics import accuracy_score\n",
    "from sklearn.model_selection import GridSearchCV\n",
    "from sklearn.metrics import roc_curve, roc_auc_score"
   ]
  },
  {
   "cell_type": "code",
   "execution_count": 2,
   "metadata": {},
   "outputs": [],
   "source": [
    "#Load data: Load both the merged data and the original unaltered data \n",
    "merged_file = '../DataSet/merged_data2.csv'\n",
    "data = pd.read_csv(merged_file, parse_dates =[2])\n",
    "\n",
    "#market_file = '../DataSet/market_clean.csv'\n",
    "#data = pd.read_csv(market_file, parse_dates =[1])\n",
    "\n",
    "#news_file = '../DataSet/news_train_df.csv'\n",
    "#news_data = pd.read_csv(news_file, parse_dates =[1])"
   ]
  },
  {
   "cell_type": "code",
   "execution_count": 3,
   "metadata": {},
   "outputs": [],
   "source": [
    "#Combine mean of news data information by day\n",
    "data = data.dropna(axis = 0, how = 'any').groupby('assetName').resample('d', on = 'time').mean().dropna(axis = 0, how = 'any')\n",
    "data = data.reset_index(drop = False)"
   ]
  },
  {
   "cell_type": "code",
   "execution_count": 4,
   "metadata": {},
   "outputs": [
    {
     "data": {
      "text/plain": [
       "Index(['assetName', 'time', 'Unnamed: 0', 'Unnamed: 0.1', 'volume', 'close',\n",
       "       'open', 'returnsClosePrevRaw1', 'returnsOpenPrevRaw1',\n",
       "       'returnsClosePrevMktres1', 'returnsOpenPrevMktres1',\n",
       "       'returnsClosePrevRaw10', 'returnsOpenPrevRaw10',\n",
       "       'returnsClosePrevMktres10', 'returnsOpenPrevMktres10',\n",
       "       'returnsOpenNextMktres10', 'universe', 'urgency', 'takeSequence',\n",
       "       'bodySize', 'companyCount', 'marketCommentary', 'sentenceCount',\n",
       "       'wordCount', 'firstMentionSentence', 'relevance', 'sentimentClass',\n",
       "       'sentimentNegative', 'sentimentNeutral', 'sentimentPositive',\n",
       "       'sentimentWordCount', 'noveltyCount12H', 'noveltyCount24H',\n",
       "       'noveltyCount3D', 'noveltyCount5D', 'noveltyCount7D', 'volumeCounts12H',\n",
       "       'volumeCounts24H', 'volumeCounts3D', 'volumeCounts5D',\n",
       "       'volumeCounts7D'],\n",
       "      dtype='object')"
      ]
     },
     "execution_count": 4,
     "metadata": {},
     "output_type": "execute_result"
    }
   ],
   "source": [
    "data.columns"
   ]
  },
  {
   "cell_type": "code",
   "execution_count": 5,
   "metadata": {},
   "outputs": [],
   "source": [
    "#Choose features to use in model\n",
    "features = ['volume', 'close', 'open', 'returnsClosePrevRaw1',\n",
    "       'returnsOpenPrevRaw1', 'returnsClosePrevMktres1',\n",
    "       'returnsOpenPrevMktres1', 'returnsClosePrevRaw10',\n",
    "       'returnsOpenPrevRaw10', 'returnsClosePrevMktres10',\n",
    "       'returnsOpenPrevMktres10',\n",
    "        'sentenceCount', 'wordCount', 'sentimentClass', 'sentimentNegative', 'sentimentNeutral',\n",
    "       'sentimentPositive', 'sentimentWordCount', 'noveltyCount12H',\n",
    "       'noveltyCount24H', 'noveltyCount3D', 'noveltyCount5D', 'noveltyCount7D',\n",
    "       'volumeCounts12H', 'volumeCounts24H', 'volumeCounts3D',\n",
    "       'volumeCounts5D', 'volumeCounts7D' ]"
   ]
  },
  {
   "cell_type": "code",
   "execution_count": 20,
   "metadata": {},
   "outputs": [],
   "source": [
    "#Set up X and y for modeling\n",
    "X = data[features]\n",
    "y = (data.returnsOpenNextMktres10 >= 0).values\n",
    "y = y.astype(int)\n",
    "\n",
    "#Set up additional parameters to calculate final metric used in Two Sigma competition\n",
    "universe = data.universe\n",
    "r = data.returnsOpenNextMktres10\n",
    "day = data.time.dt.date"
   ]
  },
  {
   "cell_type": "code",
   "execution_count": 21,
   "metadata": {},
   "outputs": [],
   "source": [
    "#Create train and test sets\n",
    "X_train, X_test, y_train, y_test, _, univ_test, _, r_test, _, day_test = \\\n",
    "       train_test_split(X, y, universe, r, day, test_size = 0.3, random_state = 42)"
   ]
  },
  {
   "cell_type": "code",
   "execution_count": 22,
   "metadata": {},
   "outputs": [
    {
     "name": "stdout",
     "output_type": "stream",
     "text": [
      "379311\n",
      "162562\n"
     ]
    }
   ],
   "source": [
    "print(len(y_train))\n",
    "print(len(y_test))"
   ]
  },
  {
   "cell_type": "code",
   "execution_count": 31,
   "metadata": {},
   "outputs": [],
   "source": [
    "#Set up model and determine best parameters for XGBClassifier.  After tuning parameters comment out \n",
    "#remaining lines of code\n",
    "#gb = XGBClassifier()\n",
    "#params = {'n_estimators': [200, 500, 1000, 2000, 4000],\n",
    "#          'max_depth': [4, 6, 8, 10],\n",
    "#          'learning_rate': [.001, .01, 0.1, 0.3],\n",
    "#          'booster': ['gbtree', 'gblinear', 'dart']}\n",
    "\n",
    "#gb_cv = GridSearchCV(gb, params, cv = 5, n_jobs = -1)\n",
    "\n",
    "#Preform grid search to find best fit parameters using XGBClassifier\n",
    "#gb_cv.fit(X_train, y_train)\n",
    "\n",
    "#Show the best parameters and best score value determined from the grid search\n",
    "#print(gb_cv.best_params_)\n",
    "#print(gb_cv.best_score_)"
   ]
  },
  {
   "cell_type": "code",
   "execution_count": 32,
   "metadata": {},
   "outputs": [],
   "source": [
    "#Initialize model with optimized parameters\n",
    "params = {'booster': 'gbtree',\n",
    "          'learning_rate': 0.1,\n",
    "          'max_depth': 6,\n",
    "           'n_estimators': 100,\n",
    "          'n_jobs': 4}\n",
    "model = XGBClassifier(**params)"
   ]
  },
  {
   "cell_type": "code",
   "execution_count": 33,
   "metadata": {},
   "outputs": [
    {
     "name": "stdout",
     "output_type": "stream",
     "text": [
      "Wall time: 41 s\n"
     ]
    },
    {
     "data": {
      "text/plain": [
       "XGBClassifier(base_score=0.5, booster='gbtree', colsample_bylevel=1,\n",
       "       colsample_bytree=1, gamma=0, learning_rate=0.1, max_delta_step=0,\n",
       "       max_depth=6, min_child_weight=1, missing=None, n_estimators=100,\n",
       "       n_jobs=4, nthread=None, objective='binary:logistic', random_state=0,\n",
       "       reg_alpha=0, reg_lambda=1, scale_pos_weight=1, seed=None,\n",
       "       silent=True, subsample=1)"
      ]
     },
     "execution_count": 33,
     "metadata": {},
     "output_type": "execute_result"
    }
   ],
   "source": [
    "%%time\n",
    "#Fit model to training data\n",
    "model.fit(X_train, y_train)"
   ]
  },
  {
   "cell_type": "code",
   "execution_count": 34,
   "metadata": {},
   "outputs": [
    {
     "name": "stdout",
     "output_type": "stream",
     "text": [
      "[[0.52993214 0.47006786]\n",
      " [0.47777438 0.5222256 ]\n",
      " [0.5232013  0.4767987 ]\n",
      " [0.5175458  0.4824542 ]\n",
      " [0.44618    0.55382   ]\n",
      " [0.5712421  0.42875794]\n",
      " [0.4763385  0.5236615 ]\n",
      " [0.5267178  0.47328225]\n",
      " [0.5548254  0.44517457]\n",
      " [0.4546051  0.5453949 ]]\n"
     ]
    }
   ],
   "source": [
    "#Collection prediction values for classification\n",
    "y_pred = model.predict_proba(X_test)\n",
    "predictions = [round(value[1]) for value in y_pred]\n",
    "print(y_pred[20:30])"
   ]
  },
  {
   "cell_type": "code",
   "execution_count": 40,
   "metadata": {},
   "outputs": [
    {
     "name": "stdout",
     "output_type": "stream",
     "text": [
      "Accuracy: 0.5499\n"
     ]
    }
   ],
   "source": [
    "#Calculate accuracy score for the predictions\n",
    "accuracy = accuracy_score(y_test, predictions)\n",
    "print('Accuracy: %.4f'%(accuracy))"
   ]
  },
  {
   "cell_type": "code",
   "execution_count": 84,
   "metadata": {},
   "outputs": [
    {
     "data": {
      "image/png": "[encoded data removed]",
      "text/plain": [
       "<Figure size 432x288 with 1 Axes>"
      ]
     },
     "metadata": {
      "needs_background": "light"
     },
     "output_type": "display_data"
    }
   ],
   "source": [
    "#Plot histogram of prediction results.  Notice, using the Two Sigma scoring metric to calculate the \n",
    "#conifidence that returnOpenNextMktres10 is negative or positive.\n",
    "y_r = y_pred[:,1]*2 - 1\n",
    "plt.hist(y_r, bins = 'auto', density = True)\n",
    "plt.xlabel('Residualized Market Return Confidence', fontsize = 14)\n",
    "plt.ylabel('Normalized Count', fontsize = 14)\n",
    "plt.title('Market Return Confidence', fontsize = 14)\n",
    "plt.savefig('ReturnConfidence.png', bbox = 'tight')\n",
    "plt.show()"
   ]
  },
  {
   "cell_type": "code",
   "execution_count": 66,
   "metadata": {},
   "outputs": [
    {
     "data": {
      "image/png": "[encoded data removed]",
      "text/plain": [
       "<Figure size 648x432 with 1 Axes>"
      ]
     },
     "metadata": {
      "needs_background": "light"
     },
     "output_type": "display_data"
    }
   ],
   "source": [
    "#Display bar graph of feature importance in model\n",
    "feat_imp = model.feature_importances_\n",
    "feat = pd.DataFrame()\n",
    "feat['feature'] = features\n",
    "feat['importance'] = feat_imp\n",
    "feat = feat.sort_values('importance')\n",
    "\n",
    "wide = np.arange(len(feat_imp))\n",
    "plt.figure(figsize = (9,6))\n",
    "plt.barh(wide, feat['importance'])\n",
    "plt.yticks(wide, feat['feature'])\n",
    "plt.xlabel('Feature Importance', fontsize = 14)\n",
    "plt.title('Feature Importance', fontsize = 14)\n",
    "plt.tight_layout()\n",
    "plt.savefig('FeatureImportance.png', bbox = 'tight')\n",
    "plt.show()"
   ]
  },
  {
   "cell_type": "code",
   "execution_count": 88,
   "metadata": {},
   "outputs": [
    {
     "data": {
      "image/png": "[encoded data removed]",
      "text/plain": [
       "<Figure size 432x288 with 1 Axes>"
      ]
     },
     "metadata": {
      "needs_background": "light"
     },
     "output_type": "display_data"
    }
   ],
   "source": [
    "#Plot ROC curve for XGBClassifier model\n",
    "fpr, tpr, thresholds = roc_curve(y_test, y_pred[:,1])\n",
    "auc = roc_auc_score(y_test, y_pred[:,1])\n",
    "\n",
    "plt.plot(fpr, tpr, color = 'blue')\n",
    "plt.plot([0,1], [0,1], color = 'red', linestyle = '--')\n",
    "plt.xlabel('FPR', fontsize = 14)\n",
    "plt.ylabel('TPR', fontsize = 14)\n",
    "plt.title('ROC Curve', fontsize = 14)\n",
    "plt.axis([0, 1, 0, 1])\n",
    "plt.legend(['AUC %.3f'%auc], loc = 'lower right', fontsize = 14)\n",
    "plt.savefig('ROC_XGBClassifier.png', bbox = 'tight')\n",
    "plt.show()"
   ]
  },
  {
   "cell_type": "code",
   "execution_count": 83,
   "metadata": {},
   "outputs": [
    {
     "name": "stdout",
     "output_type": "stream",
     "text": [
      "Score using XGBClassifier 0.4831\n"
     ]
    }
   ],
   "source": [
    "#Calculate the metric used Two Sigma competition for scoring\n",
    "\n",
    "#Clip outliers for the returnsOpenNextMktres10 data\n",
    "r_test2 = r_test.clip(-1,1)\n",
    "\n",
    "#Calculate scoring metric\n",
    "y_int = y_r*univ_test*r_test2\n",
    "df = pd.DataFrame()\n",
    "\n",
    "df['day'] = day_test\n",
    "df['y_int'] = y_int\n",
    "\n",
    "y_i = df.groupby('day').sum().values.flatten()\n",
    "mean_i = np.mean(y_i)\n",
    "std_i = np.std(y_i)\n",
    "\n",
    "score_gb = mean_i/std_i\n",
    "print('Score using XGBClassifier %.4f'%(score_gb))\n"
   ]
  }
 ],
 "metadata": {
  "kernelspec": {
   "display_name": "Python 3",
   "language": "python",
   "name": "python3"
  },
  "language_info": {
   "codemirror_mode": {
    "name": "ipython",
    "version": 3
   },
   "file_extension": ".py",
   "mimetype": "text/x-python",
   "name": "python",
   "nbconvert_exporter": "python",
   "pygments_lexer": "ipython3",
   "version": "3.7.0"
  }
 },
 "nbformat": 4,
 "nbformat_minor": 2
}
